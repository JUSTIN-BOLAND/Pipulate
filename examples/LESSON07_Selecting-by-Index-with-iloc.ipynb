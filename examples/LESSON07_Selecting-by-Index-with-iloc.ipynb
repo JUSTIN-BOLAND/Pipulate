{
 "cells": [
  {
   "cell_type": "code",
   "execution_count": null,
   "metadata": {},
   "outputs": [],
   "source": [
    "import pandas as pd\n",
    "\n",
    "pd.set_option('display.max_columns', 500)\n",
    "\n",
    "def a1_notation(n):\n",
    "    string = \"\"\n",
    "    while n > 0:\n",
    "        n, remainder = divmod(n - 1, 26)\n",
    "        string = chr(65 + remainder) + string\n",
    "    return string\n",
    "\n",
    "alist = list(range(1, 31))\n",
    "A1_list = [a1_notation(x) for x in alist]\n",
    "df = pd.DataFrame([alist for aline in alist], columns=A1_list)\n",
    "df"
   ]
  },
  {
   "cell_type": "code",
   "execution_count": null,
   "metadata": {},
   "outputs": [],
   "source": [
    "# Pandas encourages use of iloc and loc to select data from DataFrames. \n",
    "# iloc uses index-based numberic indexes while loc uses row and column labels.\n",
    "# If you feed only an integer to iloc, you'll get back that row as a Pandas Series (not as a DataFrame)\n",
    "\n",
    "df.iloc[0]"
   ]
  },
  {
   "cell_type": "code",
   "execution_count": null,
   "metadata": {},
   "outputs": [],
   "source": [
    "# We generally want DataFrames back. Simply feed iloc a list instead of an interger to get a DataFrame.\n",
    "df.iloc[[0]]"
   ]
  },
  {
   "cell_type": "code",
   "execution_count": null,
   "metadata": {
    "scrolled": true
   },
   "outputs": [],
   "source": [
    "# Since it is a list, you can \"call out\" whichever rows you want by their index. \n",
    "df.iloc[[0, 2, 4, 6, 8, 10]]"
   ]
  },
  {
   "cell_type": "code",
   "execution_count": null,
   "metadata": {},
   "outputs": [],
   "source": [
    "# Until you see a comma outside a list, you're always dealing with rows. You can get rows by slice.\n",
    "df.iloc[5:10]"
   ]
  },
  {
   "cell_type": "code",
   "execution_count": null,
   "metadata": {},
   "outputs": [],
   "source": [
    "# As with Python slices, you can leave out begining or ending values to specify begin or end.\n",
    "df.iloc[25:]"
   ]
  },
  {
   "cell_type": "code",
   "execution_count": null,
   "metadata": {},
   "outputs": [],
   "source": [
    "# A with any Python slices, this is a way to say \"from beginning to end\" (a.k.a. all rows):\n",
    "df.iloc[:]"
   ]
  },
  {
   "cell_type": "code",
   "execution_count": null,
   "metadata": {},
   "outputs": [],
   "source": [
    "# This is how we say from row 25 to the row prior to the last row. Again, notice the row-bias of iloc.\n",
    "df.iloc[25:-1]"
   ]
  },
  {
   "cell_type": "code",
   "execution_count": null,
   "metadata": {
    "scrolled": true
   },
   "outputs": [],
   "source": [
    "# This is how we say from the first row to the row twenty-five prior to the last row.\n",
    "df.iloc[:-25]"
   ]
  },
  {
   "cell_type": "code",
   "execution_count": null,
   "metadata": {},
   "outputs": [],
   "source": [
    "# Now we can expose the second argument to the iloc interface using a comma. \n",
    "# It's almost the same as df.iloc[:,] but we can see where column-specifiers go.\n",
    "df.iloc[:, ]"
   ]
  },
  {
   "cell_type": "code",
   "execution_count": null,
   "metadata": {
    "scrolled": false
   },
   "outputs": [],
   "source": [
    "# Likewise as with specifiying rows, using just a colon asks for all columns.\n",
    "df.iloc[:, :]"
   ]
  },
  {
   "cell_type": "code",
   "execution_count": null,
   "metadata": {},
   "outputs": [],
   "source": [
    "# We have the same API for selecting columns by index as we do rows. It just comes after the comma.\n",
    "df.iloc[:, 0:5]"
   ]
  },
  {
   "cell_type": "code",
   "execution_count": null,
   "metadata": {},
   "outputs": [],
   "source": [
    "# We can leave the 0 out as a shortcut for \"from beginning\". \n",
    "df.iloc[:, :5]"
   ]
  },
  {
   "cell_type": "code",
   "execution_count": null,
   "metadata": {
    "scrolled": false
   },
   "outputs": [],
   "source": [
    "# As with Python slices and the rows, we can leave out the slice's end-value, meaning \"to the end\".\n",
    "df.iloc[:, 25:]"
   ]
  },
  {
   "cell_type": "code",
   "execution_count": null,
   "metadata": {},
   "outputs": [],
   "source": [
    "# After the comma, the same rules apply to columns as to rows. \n",
    "# So an interger will get that column as a Pandas Series.\n",
    "df.iloc[:, 0]"
   ]
  },
  {
   "cell_type": "code",
   "execution_count": null,
   "metadata": {},
   "outputs": [],
   "source": [
    "# This is another way of saying all-rows and all-columns by slice definition.\n",
    "df.iloc[:, :]"
   ]
  },
  {
   "cell_type": "code",
   "execution_count": null,
   "metadata": {},
   "outputs": [],
   "source": [
    "# Exactly as with rows, turning the value after the comma into a list gives you those columns.\n",
    "df.iloc[:, [0]]"
   ]
  },
  {
   "cell_type": "code",
   "execution_count": null,
   "metadata": {},
   "outputs": [],
   "source": [
    "# This is just like how we picked rows with a list, but with columns.\n",
    "# Put a colon comma ( :, ) at the beginning of an iloc row argument it becomes a column argument.\n",
    "df.iloc[:, [0, 2, 4, 6, 8, 10]]"
   ]
  },
  {
   "cell_type": "code",
   "execution_count": null,
   "metadata": {},
   "outputs": [],
   "source": [
    "# This is how we can combine column index-selection by list with row index-selection by list.\n",
    "df.iloc[[0, 2, 4, 6, 8, 10], [0, 2, 4, 6, 8, 10]]"
   ]
  },
  {
   "cell_type": "code",
   "execution_count": null,
   "metadata": {},
   "outputs": [],
   "source": [
    "# We can use references (variable-names) in place of lists.\n",
    "alist = [0, 2, 4, 6, 8, 10]\n",
    "df.iloc[alist, alist]"
   ]
  },
  {
   "cell_type": "code",
   "execution_count": null,
   "metadata": {
    "scrolled": true
   },
   "outputs": [],
   "source": [
    "# Slice definitions work the same way. This is the intersection of the first 5 rows and first 5 columns.\n",
    "df.iloc[:5, :5]"
   ]
  },
  {
   "cell_type": "code",
   "execution_count": null,
   "metadata": {},
   "outputs": [],
   "source": [
    "# This is how you select all columns from index location 25 to end.\n",
    "df.iloc[:, 25:]"
   ]
  },
  {
   "cell_type": "code",
   "execution_count": null,
   "metadata": {},
   "outputs": [],
   "source": [
    "# This is how you select all columns from 5 positions back from the end to the end.\n",
    "df.iloc[:, -5:]"
   ]
  },
  {
   "cell_type": "code",
   "execution_count": null,
   "metadata": {},
   "outputs": [],
   "source": []
  }
 ],
 "metadata": {
  "kernelspec": {
   "display_name": "Python 3",
   "language": "python",
   "name": "python3"
  },
  "language_info": {
   "codemirror_mode": {
    "name": "ipython",
    "version": 3
   },
   "file_extension": ".py",
   "mimetype": "text/x-python",
   "name": "python",
   "nbconvert_exporter": "python",
   "pygments_lexer": "ipython3",
   "version": "3.6.8"
  }
 },
 "nbformat": 4,
 "nbformat_minor": 2
}
