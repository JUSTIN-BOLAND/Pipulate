{
 "cells": [
  {
   "cell_type": "code",
   "execution_count": null,
   "metadata": {},
   "outputs": [],
   "source": [
    "import sys"
   ]
  },
  {
   "cell_type": "code",
   "execution_count": null,
   "metadata": {},
   "outputs": [],
   "source": [
    "!{sys.executable} -m pip install --upgrade --no-cache-dir pyfiglet"
   ]
  },
  {
   "cell_type": "code",
   "execution_count": null,
   "metadata": {},
   "outputs": [],
   "source": [
    "import pyfiglet\n",
    "\n",
    "name = input(\"What is your name? \")\n",
    "print(\"Your name is: \", name)\n",
    "print(pyfiglet.figlet_format('Hello %s' % name, font='standard'))"
   ]
  },
  {
   "cell_type": "code",
   "execution_count": null,
   "metadata": {},
   "outputs": [],
   "source": [
    "!{sys.executable} -m pip install --upgrade --no-cache-dir colorama"
   ]
  },
  {
   "cell_type": "code",
   "execution_count": null,
   "metadata": {},
   "outputs": [],
   "source": [
    "from colorama import Fore\n",
    "from pyfiglet import figlet_format as fformat\n",
    "\n",
    "font = 'standard'\n",
    "subfont = 'cybermedium'\n",
    "red, white, blue, green = Fore.RED, Fore.WHITE, Fore.BLUE, Fore.GREEN\n",
    "line1 = fformat('Hello %s' % name, font=font)\n",
    "line2 = fformat('Pick the blue pill', font=subfont, width=200)\n",
    "line3 = fformat('or the red pill.', font=subfont, width=200)\n",
    "print('%s%s%s' % (green, line1, white))\n",
    "print('%s%s%s' % (blue, line2, white))\n",
    "print('%s%s%s' % (red, line3, white))"
   ]
  },
  {
   "cell_type": "code",
   "execution_count": null,
   "metadata": {},
   "outputs": [],
   "source": [
    "!{sys.executable} -m pip install --upgrade --no-cache-dir logzero"
   ]
  },
  {
   "cell_type": "code",
   "execution_count": null,
   "metadata": {
    "scrolled": true
   },
   "outputs": [],
   "source": [
    "import logzero\n",
    "from logzero import logger\n",
    "\n",
    "# Setup rotating logfile with 3 rotations, each with a maximum filesize of 1MB:\n",
    "logzero.logfile(\"rotating-logfile.log\", maxBytes=1e6, backupCount=3)\n",
    "logger.info(\"This log message goes to the console and the logfile\")\n",
    "\n",
    "# These log messages are sent to the console\n",
    "logger.debug(\"This is blue from console.\")\n",
    "logger.info(\"This is green from console.\")\n",
    "logger.warning(\"This is yellow from console.\")\n",
    "logger.error(\"This is red from console.\")\n",
    "\n",
    "# This is how you'd log an exception\n",
    "try:\n",
    "    raise Exception(\"this is a demo exception\")\n",
    "except Exception as e:\n",
    "    logger.exception(e)"
   ]
  },
  {
   "cell_type": "code",
   "execution_count": null,
   "metadata": {},
   "outputs": [],
   "source": [
    "!{sys.executable} -m pip install --upgrade --no-cache-dir pipulate"
   ]
  },
  {
   "cell_type": "code",
   "execution_count": null,
   "metadata": {
    "scrolled": true
   },
   "outputs": [],
   "source": [
    "try:\n",
    "    gurl\n",
    "except:\n",
    "    gurl = input(\"Enter a Google Sheet URL \")"
   ]
  },
  {
   "cell_type": "code",
   "execution_count": null,
   "metadata": {},
   "outputs": [],
   "source": [
    "!{sys.executable} -m pip install --upgrade --no-cache-dir pyppeteer"
   ]
  },
  {
   "cell_type": "code",
   "execution_count": null,
   "metadata": {},
   "outputs": [],
   "source": []
  },
  {
   "cell_type": "code",
   "execution_count": null,
   "metadata": {},
   "outputs": [],
   "source": []
  }
 ],
 "metadata": {
  "kernelspec": {
   "display_name": "Python 3",
   "language": "python",
   "name": "python3"
  },
  "language_info": {
   "codemirror_mode": {
    "name": "ipython",
    "version": 3
   },
   "file_extension": ".py",
   "mimetype": "text/x-python",
   "name": "python",
   "nbconvert_exporter": "python",
   "pygments_lexer": "ipython3",
   "version": "3.6.5"
  }
 },
 "nbformat": 4,
 "nbformat_minor": 2
}
