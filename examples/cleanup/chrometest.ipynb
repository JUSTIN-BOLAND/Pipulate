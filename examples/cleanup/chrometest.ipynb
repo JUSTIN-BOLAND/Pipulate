{
 "cells": [
  {
   "cell_type": "code",
   "execution_count": 2,
   "metadata": {},
   "outputs": [
    {
     "name": "stdout",
     "output_type": "stream",
     "text": [
      "Sequential: https://www.google.com/search?q=levinux\n",
      "Sequential: https://www.google.com/search?q=pipulate\n",
      "Done sequential parent script. Stuff continues in the background.\n"
     ]
    },
    {
     "name": "stderr",
     "output_type": "stream",
     "text": [
      "[I:pyppeteer.launcher] Browser listening on: ws://127.0.0.1:50230/devtools/browser/f3d4c4bb-63a2-4b86-967d-87210fed89b3\n",
      "[I:pyppeteer.launcher] Browser listening on: ws://127.0.0.1:50232/devtools/browser/e9d1bc4a-cbaa-46da-b8a7-6a1e88b5f002\n",
      "[I:pyppeteer.launcher] terminate chrome process...\n",
      "[14:58:59] Async saving levinux.png\n",
      "[I:pyppeteer.launcher] terminate chrome process...\n",
      "[14:58:59] Async saving pipulate.png\n"
     ]
    }
   ],
   "source": [
    "import os\n",
    "import glob\n",
    "import asyncio\n",
    "import logging\n",
    "import pyppeteer\n",
    "\n",
    "LOGGER_FORMAT = '%(asctime)s %(message)s'\n",
    "logging.basicConfig(format=LOGGER_FORMAT, datefmt='[%H:%M:%S]')\n",
    "log = logging.getLogger()\n",
    "log.setLevel(logging.INFO)\n",
    "\n",
    "base_url = 'https://www.google.com/search?q='\n",
    "\n",
    "keywords = '''\n",
    "levinux\n",
    "pipulate\n",
    "seo expert nyc\n",
    "open source seo\n",
    "seo software linux\n",
    "seo software open source\n",
    "smallest virtual machine\n",
    "advantages of python programming language\n",
    "'''.split('\\n')[1:-1]\n",
    "\n",
    "keywords = '''\n",
    "levinux\n",
    "pipulate\n",
    "'''.split('\\n')[1:-1]\n",
    "\n",
    "locations = 'pics,csvs'.split(',')\n",
    "for location in locations:\n",
    "    if not os.path.exists(location):\n",
    "        os.makedirs(location)\n",
    "    local_wild = './%s/*' % location\n",
    "    files = glob.glob(local_wild)\n",
    "    for file in files:\n",
    "        os.remove(file)\n",
    "        \n",
    "def job_runner(name, value):\n",
    "    task = asyncio.ensure_future(for_side_effects(name, value))\n",
    "    task = sometime_soon(task)\n",
    "    asyncio.run_coroutine_threadsafe(task, loop)\n",
    "\n",
    "\n",
    "async def sometime_soon(future):\n",
    "    result = await future\n",
    "    # await asycio.sleep(5)\n",
    "    return result\n",
    "\n",
    "\n",
    "async def for_side_effects(name, value):\n",
    "    #browser = await pyppeteer.launch(headless=False)\n",
    "    browser = await pyppeteer.launch()\n",
    "    page = await browser.newPage()\n",
    "    await page.setViewport({'width': 1080, 'height': 2750})\n",
    "    await page.goto(value)\n",
    "    elements = await page.JJ('h3.r')    \n",
    "    name = name.replace(' ', '-')\n",
    "    pic_name = \"pics/%s.png\" % name\n",
    "    await page.screenshot({'path': pic_name})\n",
    "    await browser.close()\n",
    "    msg = \"Async saving %s.png\" % name\n",
    "    log.info(msg)\n",
    "    return msg\n",
    "\n",
    "\n",
    "loop = asyncio.get_event_loop()\n",
    "for keyword in keywords:\n",
    "    keyword_plus = keyword.replace(' ', '+')\n",
    "    url = '%s%s' % (base_url, keyword_plus)\n",
    "    print('Sequential: %s' % url)\n",
    "    job_runner(keyword, url)\n",
    "print('Done sequential parent script. Stuff continues in the background.')"
   ]
  },
  {
   "cell_type": "code",
   "execution_count": null,
   "metadata": {},
   "outputs": [],
   "source": []
  }
 ],
 "metadata": {
  "kernelspec": {
   "display_name": "Python 3",
   "language": "python",
   "name": "python3"
  },
  "language_info": {
   "codemirror_mode": {
    "name": "ipython",
    "version": 3
   },
   "file_extension": ".py",
   "mimetype": "text/x-python",
   "name": "python",
   "nbconvert_exporter": "python",
   "pygments_lexer": "ipython3",
   "version": "3.6.5"
  }
 },
 "nbformat": 4,
 "nbformat_minor": 2
}
